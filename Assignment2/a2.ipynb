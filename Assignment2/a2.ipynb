{
 "cells": [
  {
   "cell_type": "code",
   "execution_count": 1,
   "metadata": {},
   "outputs": [],
   "source": [
    "%matplotlib inline "
   ]
  },
  {
   "cell_type": "code",
   "execution_count": 2,
   "metadata": {},
   "outputs": [],
   "source": [
    "from random import randint\n",
    "\n",
    "import numpy as np\n",
    "from matplotlib import pyplot as plt\n",
    "\n",
    "from load_data import get_training_data, get_test_data"
   ]
  },
  {
   "cell_type": "markdown",
   "metadata": {},
   "source": []
  },
  {
   "cell_type": "code",
   "execution_count": 3,
   "metadata": {},
   "outputs": [],
   "source": [
    "training_data = get_training_data()\n",
    "test_data = get_test_data()"
   ]
  },
  {
   "cell_type": "code",
   "execution_count": 4,
   "metadata": {},
   "outputs": [
    {
     "data": {
      "image/png": "[encoded data removed]",
      "text/plain": [
       "<Figure size 640x480 with 1 Axes>"
      ]
     },
     "metadata": {},
     "output_type": "display_data"
    }
   ],
   "source": [
    "random_index = randint(0, len(training_data[\"data\"]) - 1)\n",
    "img = training_data[\"data\"][random_index]\n",
    "\n",
    "# Separate the color channels\n",
    "red = img[0:1024].reshape((32, 32))\n",
    "green = img[1024:2048].reshape((32, 32))\n",
    "blue = img[2048:3072].reshape((32, 32))\n",
    "\n",
    "# Stack channels along the third dimension\n",
    "img_rgb = np.stack((red, green, blue), axis=2)\n",
    "\n",
    "# Display the image\n",
    "plt.imshow(img_rgb)\n",
    "plt.axis('off')\n",
    "plt.show()"
   ]
  },
  {
   "cell_type": "code",
   "execution_count": 5,
   "metadata": {},
   "outputs": [
    {
     "name": "stderr",
     "output_type": "stream",
     "text": [
      "2024-10-30 16:52:21.187737: I tensorflow/core/util/port.cc:153] oneDNN custom operations are on. You may see slightly different numerical results due to floating-point round-off errors from different computation orders. To turn them off, set the environment variable `TF_ENABLE_ONEDNN_OPTS=0`.\n",
      "2024-10-30 16:52:22.417114: E external/local_xla/xla/stream_executor/cuda/cuda_fft.cc:477] Unable to register cuFFT factory: Attempting to register factory for plugin cuFFT when one has already been registered\n",
      "WARNING: All log messages before absl::InitializeLog() is called are written to STDERR\n",
      "E0000 00:00:1730269342.909920   30026 cuda_dnn.cc:8310] Unable to register cuDNN factory: Attempting to register factory for plugin cuDNN when one has already been registered\n",
      "E0000 00:00:1730269343.052765   30026 cuda_blas.cc:1418] Unable to register cuBLAS factory: Attempting to register factory for plugin cuBLAS when one has already been registered\n",
      "2024-10-30 16:52:24.422807: I tensorflow/core/platform/cpu_feature_guard.cc:210] This TensorFlow binary is optimized to use available CPU instructions in performance-critical operations.\n",
      "To enable the following instructions: AVX2 AVX_VNNI FMA, in other operations, rebuild TensorFlow with the appropriate compiler flags.\n"
     ]
    }
   ],
   "source": [
    "from tensorflow.keras.applications import VGG16\n",
    "from tensorflow.keras.models import Sequential\n",
    "from tensorflow.keras.layers import Dense, Flatten, GlobalAveragePooling2D"
   ]
  },
  {
   "cell_type": "code",
   "execution_count": 6,
   "metadata": {},
   "outputs": [
    {
     "name": "stderr",
     "output_type": "stream",
     "text": [
      "2024-10-30 16:52:42.223668: E external/local_xla/xla/stream_executor/cuda/cuda_driver.cc:152] failed call to cuInit: INTERNAL: CUDA error: Failed call to cuInit: UNKNOWN ERROR (100)\n"
     ]
    }
   ],
   "source": [
    "num_classes = 10\n",
    "\n",
    "my_new_model = Sequential()\n",
    "my_new_model.add(VGG16(include_top=False, pooling='avg', weights='imagenet'))\n",
    "my_new_model.add(Dense(num_classes, activation='softmax'))\n",
    "\n",
    "# Indicate whether the first layer should be trained/changed or not.\n",
    "my_new_model.layers[0].trainable = False"
   ]
  },
  {
   "cell_type": "code",
   "execution_count": 7,
   "metadata": {},
   "outputs": [],
   "source": [
    "my_new_model.compile(optimizer='sgd', \n",
    "                     loss='categorical_crossentropy', \n",
    "                     metrics=['accuracy'])"
   ]
  },
  {
   "cell_type": "code",
   "execution_count": 8,
   "metadata": {},
   "outputs": [],
   "source": [
    "from tensorflow.image import resize\n",
    "from tensorflow.keras.applications.resnet50 import preprocess_input\n",
    "\n",
    "image_size = 224\n",
    "\n",
    "def data_generator(data, labels, batch_size=32):\n",
    "    num_samples = data.shape[0]\n",
    "\n",
    "    while True:  # Loop forever so the generator never terminates\n",
    "        # Shuffle the data at the start of each epoch\n",
    "        indices = np.arange(num_samples)\n",
    "        np.random.shuffle(indices)\n",
    "\n",
    "        for start in range(0, num_samples, batch_size):\n",
    "            end = min(start + batch_size, num_samples)\n",
    "            batch_indices = indices[start:end]\n",
    "\n",
    "            # Initialize batch arrays\n",
    "            batch_images = []\n",
    "            batch_labels = []\n",
    "\n",
    "            for i in batch_indices:\n",
    "                # Reshape each image from (3072,) to (32, 32, 3)\n",
    "                img = data[i]\n",
    "                red = img[0:1024].reshape((32, 32))\n",
    "                green = img[1024:2048].reshape((32, 32))\n",
    "                blue = img[2048:3072].reshape((32, 32))\n",
    "                img_rgb = np.stack((red, green, blue), axis=-1)\n",
    "\n",
    "                # Resize to (224, 224) for ResNet50\n",
    "                img_resized = resize(img_rgb, (image_size, image_size)).numpy()\n",
    "\n",
    "                # Preprocess the image\n",
    "                img_preprocessed = preprocess_input(img_resized)\n",
    "\n",
    "                # Append to batch\n",
    "                batch_images.append(img_preprocessed)\n",
    "                batch_labels.append(labels[i])\n",
    "\n",
    "            yield np.array(batch_images), np.array(batch_labels)\n",
    "\n",
    "\n",
    "# Example usage\n",
    "train_generator = data_generator(training_data[\"data\"], training_data[\"labels\"], batch_size=10)\n",
    "validation_generator = data_generator(test_data[\"data\"], test_data[\"labels\"], batch_size=10)"
   ]
  },
  {
   "cell_type": "code",
   "execution_count": 9,
   "metadata": {},
   "outputs": [],
   "source": [
    "import tensorflow as tf\n",
    "def memory_efficient_generator(data, labels, batch_size=32):\n",
    "    num_samples = len(data)\n",
    "    \n",
    "    while True:\n",
    "        indices = np.arange(num_samples)\n",
    "        np.random.shuffle(indices)\n",
    "        \n",
    "        for start in range(0, num_samples, batch_size):\n",
    "            end = min(start + batch_size, num_samples)\n",
    "            batch_indices = indices[start:end]\n",
    "            \n",
    "            batch_images = []\n",
    "            batch_labels = []\n",
    "            \n",
    "            for i in batch_indices:\n",
    "                img = data[i]\n",
    "                # Reshape and resize\n",
    "                red = img[0:1024].reshape((32, 32))\n",
    "                green = img[1024:2048].reshape((32, 32))\n",
    "                blue = img[2048:3072].reshape((32, 32))\n",
    "                img_rgb = np.stack((red, green, blue), axis=-1)\n",
    "                img_resized = resize(img_rgb, (image_size, image_size)).numpy()\n",
    "                img_preprocessed = preprocess_input(img_resized)\n",
    "                \n",
    "                batch_images.append(img_preprocessed)\n",
    "                batch_labels.append(labels[i])\n",
    "            \n",
    "            yield np.array(batch_images), tf.keras.utils.to_categorical(batch_labels, num_classes=10)\n"
   ]
  },
  {
   "cell_type": "code",
   "execution_count": 10,
   "metadata": {},
   "outputs": [],
   "source": [
    "# fit_stats below saves some statistics describing how model fitting went\n",
    "# the key role of the following line is how it changes my_new_model by fitting to data\n",
    "# train_generator = memory_efficient_generator(training_data[\"data\"], training_data[\"labels\"], batch_size=22)\n",
    "# my_new_model.fit(train_generator, steps_per_epoch=len(training_data[\"data\"]) // 10, epochs=10)"
   ]
  },
  {
   "cell_type": "code",
   "execution_count": 12,
   "metadata": {},
   "outputs": [
    {
     "name": "stdout",
     "output_type": "stream",
     "text": [
      "Epoch 1/10\n"
     ]
    },
    {
     "ename": "ValueError",
     "evalue": "Exception encountered when calling Sequential.call().\n\n\u001b[1mCannot take the length of shape with unknown rank.\u001b[0m\n\nArguments received by Sequential.call():\n  • inputs=tf.Tensor(shape=<unknown>, dtype=float32)\n  • training=True\n  • mask=None",
     "output_type": "error",
     "traceback": [
      "\u001b[0;31m---------------------------------------------------------------------------\u001b[0m",
      "\u001b[0;31mValueError\u001b[0m                                Traceback (most recent call last)",
      "Cell \u001b[0;32mIn[12], line 24\u001b[0m\n\u001b[1;32m     21\u001b[0m train_dataset \u001b[38;5;241m=\u001b[39m train_dataset\u001b[38;5;241m.\u001b[39mbatch(\u001b[38;5;241m32\u001b[39m)\u001b[38;5;241m.\u001b[39mprefetch(tf\u001b[38;5;241m.\u001b[39mdata\u001b[38;5;241m.\u001b[39mexperimental\u001b[38;5;241m.\u001b[39mAUTOTUNE)\n\u001b[1;32m     23\u001b[0m \u001b[38;5;66;03m# Now use train_dataset in fit\u001b[39;00m\n\u001b[0;32m---> 24\u001b[0m \u001b[43mmy_new_model\u001b[49m\u001b[38;5;241;43m.\u001b[39;49m\u001b[43mfit\u001b[49m\u001b[43m(\u001b[49m\u001b[43mtrain_dataset\u001b[49m\u001b[43m,\u001b[49m\u001b[43m \u001b[49m\u001b[43mepochs\u001b[49m\u001b[38;5;241;43m=\u001b[39;49m\u001b[38;5;241;43m10\u001b[39;49m\u001b[43m)\u001b[49m\n",
      "File \u001b[0;32m/mnt/c/Users/chris/dev/repos/COMP-SCI-7318-Deep-Learning-Fundametals/Assignment2/.venv/lib/python3.10/site-packages/keras/src/utils/traceback_utils.py:122\u001b[0m, in \u001b[0;36mfilter_traceback.<locals>.error_handler\u001b[0;34m(*args, **kwargs)\u001b[0m\n\u001b[1;32m    119\u001b[0m     filtered_tb \u001b[38;5;241m=\u001b[39m _process_traceback_frames(e\u001b[38;5;241m.\u001b[39m__traceback__)\n\u001b[1;32m    120\u001b[0m     \u001b[38;5;66;03m# To get the full stack trace, call:\u001b[39;00m\n\u001b[1;32m    121\u001b[0m     \u001b[38;5;66;03m# `keras.config.disable_traceback_filtering()`\u001b[39;00m\n\u001b[0;32m--> 122\u001b[0m     \u001b[38;5;28;01mraise\u001b[39;00m e\u001b[38;5;241m.\u001b[39mwith_traceback(filtered_tb) \u001b[38;5;28;01mfrom\u001b[39;00m \u001b[38;5;28;01mNone\u001b[39;00m\n\u001b[1;32m    123\u001b[0m \u001b[38;5;28;01mfinally\u001b[39;00m:\n\u001b[1;32m    124\u001b[0m     \u001b[38;5;28;01mdel\u001b[39;00m filtered_tb\n",
      "File \u001b[0;32m/mnt/c/Users/chris/dev/repos/COMP-SCI-7318-Deep-Learning-Fundametals/Assignment2/.venv/lib/python3.10/site-packages/keras/src/utils/traceback_utils.py:122\u001b[0m, in \u001b[0;36mfilter_traceback.<locals>.error_handler\u001b[0;34m(*args, **kwargs)\u001b[0m\n\u001b[1;32m    119\u001b[0m     filtered_tb \u001b[38;5;241m=\u001b[39m _process_traceback_frames(e\u001b[38;5;241m.\u001b[39m__traceback__)\n\u001b[1;32m    120\u001b[0m     \u001b[38;5;66;03m# To get the full stack trace, call:\u001b[39;00m\n\u001b[1;32m    121\u001b[0m     \u001b[38;5;66;03m# `keras.config.disable_traceback_filtering()`\u001b[39;00m\n\u001b[0;32m--> 122\u001b[0m     \u001b[38;5;28;01mraise\u001b[39;00m e\u001b[38;5;241m.\u001b[39mwith_traceback(filtered_tb) \u001b[38;5;28;01mfrom\u001b[39;00m \u001b[38;5;28;01mNone\u001b[39;00m\n\u001b[1;32m    123\u001b[0m \u001b[38;5;28;01mfinally\u001b[39;00m:\n\u001b[1;32m    124\u001b[0m     \u001b[38;5;28;01mdel\u001b[39;00m filtered_tb\n",
      "\u001b[0;31mValueError\u001b[0m: Exception encountered when calling Sequential.call().\n\n\u001b[1mCannot take the length of shape with unknown rank.\u001b[0m\n\nArguments received by Sequential.call():\n  • inputs=tf.Tensor(shape=<unknown>, dtype=float32)\n  • training=True\n  • mask=None"
     ]
    }
   ],
   "source": [
    "import tensorflow as tf\n",
    "\n",
    "# Prepare dataset directly from the original images and labels\n",
    "def preprocess_image(img, label):\n",
    "    red = img[0:1024].reshape((32, 32))\n",
    "    green = img[1024:2048].reshape((32, 32))\n",
    "    blue = img[2048:3072].reshape((32, 32))\n",
    "    img_rgb = np.stack((red, green, blue), axis=-1)\n",
    "    \n",
    "    # Resize and preprocess\n",
    "    img_resized = tf.image.resize(img_rgb, (image_size, image_size))\n",
    "    img_preprocessed = preprocess_input(img_resized)\n",
    "    \n",
    "    return img_preprocessed, tf.keras.utils.to_categorical(label, num_classes=num_classes)\n",
    "\n",
    "# Create the tf.data.Dataset for training data\n",
    "train_dataset = tf.data.Dataset.from_tensor_slices((training_data[\"data\"], training_data[\"labels\"]))\n",
    "train_dataset = train_dataset.shuffle(buffer_size=len(training_data[\"data\"]))\n",
    "train_dataset = train_dataset.map(lambda img, label: tf.py_function(preprocess_image, [img, label], [tf.float32, tf.float32]),\n",
    "                                  num_parallel_calls=tf.data.experimental.AUTOTUNE)\n",
    "train_dataset = train_dataset.batch(32).prefetch(tf.data.experimental.AUTOTUNE)\n",
    "\n",
    "# Now use train_dataset in fit\n",
    "my_new_model.fit(train_dataset, epochs=10)"
   ]
  }
 ],
 "metadata": {
  "kernelspec": {
   "display_name": ".venv",
   "language": "python",
   "name": "python3"
  },
  "language_info": {
   "codemirror_mode": {
    "name": "ipython",
    "version": 3
   },
   "file_extension": ".py",
   "mimetype": "text/x-python",
   "name": "python",
   "nbconvert_exporter": "python",
   "pygments_lexer": "ipython3",
   "version": "3.10.12"
  }
 },
 "nbformat": 4,
 "nbformat_minor": 2
}
